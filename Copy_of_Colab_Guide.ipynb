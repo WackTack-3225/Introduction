{
  "nbformat": 4,
  "nbformat_minor": 0,
  "metadata": {
    "colab": {
      "provenance": [],
      "authorship_tag": "ABX9TyPER9Z5k6QEiSIrY1DsAHbb",
      "include_colab_link": true
    },
    "kernelspec": {
      "name": "python3",
      "display_name": "Python 3"
    },
    "language_info": {
      "name": "python"
    }
  },
  "cells": [
    {
      "cell_type": "markdown",
      "metadata": {
        "id": "view-in-github",
        "colab_type": "text"
      },
      "source": [
        "<a href=\"https://colab.research.google.com/github/WackTack-3225/Introduction/blob/main/Copy_of_Colab_Guide.ipynb\" target=\"_parent\"><img src=\"https://colab.research.google.com/assets/colab-badge.svg\" alt=\"Open In Colab\"/></a>"
      ]
    },
    {
      "cell_type": "markdown",
      "source": [
        "# Enter Code\n"
      ],
      "metadata": {
        "id": "l02uAYiQxU9R"
      }
    },
    {
      "cell_type": "code",
      "execution_count": null,
      "metadata": {
        "colab": {
          "base_uri": "https://localhost:8080/"
        },
        "id": "SgVDA76vw7ta",
        "outputId": "4469ad59-6e74-4d83-fa00-1bfba9da7e95"
      },
      "outputs": [
        {
          "output_type": "stream",
          "name": "stdout",
          "text": [
            "Sun Oct 15 09:58:30 2023\n"
          ]
        }
      ],
      "source": [
        "import time\n",
        "print(time.ctime())"
      ]
    },
    {
      "cell_type": "markdown",
      "source": [
        "# Text Features"
      ],
      "metadata": {
        "id": "otePBVPExiOy"
      }
    },
    {
      "cell_type": "markdown",
      "source": [
        "## Markdown"
      ],
      "metadata": {
        "id": "9cBdCCBVyJVn"
      }
    },
    {
      "cell_type": "markdown",
      "source": [
        "\n",
        "This is **bold**\n",
        "\n",
        "This is *italic*\n",
        "\n",
        "This is ~strikethrough~"
      ],
      "metadata": {
        "id": "d4qTY43hxzlP"
      }
    },
    {
      "cell_type": "markdown",
      "source": [
        "## Math Equations"
      ],
      "metadata": {
        "id": "FWulgOD7yLcD"
      }
    },
    {
      "cell_type": "markdown",
      "source": [
        "$\\sqrt{3x-1}*(1+x)^2$"
      ],
      "metadata": {
        "id": "timS5kOcyE-Z"
      }
    },
    {
      "cell_type": "markdown",
      "source": [
        "$e^x=\\sum_{i=0}^\\infty\\frac{1}{i!}x^i$"
      ],
      "metadata": {
        "id": "IHtfDZPAyjw-"
      }
    },
    {
      "cell_type": "markdown",
      "source": [
        "Constraints are\n",
        "\n",
        "$3x_1+6x_2+x_3=<28$\n",
        "\n",
        "$7x_1+3x_2+2x_3=<37$\n",
        "\n",
        "$4x_1+5x_2+2x_3=<19$\n",
        "\n",
        "$x_1,x_2,x_3 >=0 $\n",
        "\n",
        "The trial vector is calculated as follows:\n",
        "$u_i(t)=x_i(t)+\\beta(\\hat{x}(t)x_i(t)) +\\beta\\sum_{k=1}^{n_v}(x_{i1,k}(t)x_{i2,k}(t))$\n",
        "\n",
        "$f(x_1,x_2)=20+e-20exp(-0.2\\sqrt{\\frac{1}{n}(x_1^2+x_2^2)})-exp(\\frac{1}{n}(cos(2\\pix_1)+cos(2\\pix_2))$\n",
        "\n",
        "$xϵ[5,5]$\n",
        "\n",
        ">$A_{m,n}=\n",
        "\\begin{pmatrix}\n",
        "a_{1,1}&a_{1,2}&\\cdots&a_{1,n}\\\\\n",
        "a_{2,1}&a_{2,2}&\\cdots&a_{2,n}\\\\\n",
        "\\vdots&\\vdots&\\ddots&\\vdots\\\\\n",
        "a_{m,1}&a_{m,2}&\\cdots&a_{m,n}\n",
        "\\end{pmatrix}$"
      ],
      "metadata": {
        "id": "KWjmwM6Lytvp"
      }
    }
  ]
}